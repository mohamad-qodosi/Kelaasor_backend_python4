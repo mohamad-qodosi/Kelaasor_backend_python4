{
 "cells": [
  {
   "cell_type": "markdown",
   "id": "7fb2c18f-8b67-46b6-be70-11eb02e6282a",
   "metadata": {},
   "source": [
    "# Enumerate\n",
    "\n",
    "enumerate can be used to loop on a iterator and have the index and value of each item at the same time."
   ]
  },
  {
   "cell_type": "code",
   "execution_count": 1,
   "id": "0642b2d2-9a19-4356-9f85-175e73fbf510",
   "metadata": {},
   "outputs": [
    {
     "name": "stdout",
     "output_type": "stream",
     "text": [
      "1\n",
      "2\n",
      "3\n",
      "4\n",
      "5\n",
      "6\n"
     ]
    }
   ],
   "source": [
    "my_list = [1, 2, 3, 4, 5, 6]\n",
    "\n",
    "for value in my_list:\n",
    "    print(value)"
   ]
  },
  {
   "cell_type": "code",
   "execution_count": 2,
   "id": "cea09fb8-2004-411d-83ae-8d4c06e98f63",
   "metadata": {},
   "outputs": [
    {
     "name": "stdout",
     "output_type": "stream",
     "text": [
      "0 Danial\n",
      "1 Ramin\n",
      "2 Nazanin\n",
      "3 Mahdis\n"
     ]
    }
   ],
   "source": [
    "my_list = ['Danial', 'Ramin', 'Nazanin', 'Mahdis']\n",
    "\n",
    "# for i in range(len(my_list)):\n",
    "#     print(i, my_list[i])\n",
    "    \n",
    "for i, value in enumerate(my_list):\n",
    "    print(i, value)"
   ]
  },
  {
   "cell_type": "markdown",
   "id": "fd6fb7cc-1879-4e93-8f4c-81255645b4c8",
   "metadata": {},
   "source": [
    "# Zip\n",
    "\n",
    "zip can be used to loop over two iterators at the same time.\n",
    "\n",
    "The loop will continue until one of the iterators ends."
   ]
  },
  {
   "cell_type": "code",
   "execution_count": 3,
   "id": "81164d9a-c409-4d28-92fb-15a12bfd99db",
   "metadata": {},
   "outputs": [
    {
     "name": "stdout",
     "output_type": "stream",
     "text": [
      "a 100\n",
      "b 80\n",
      "c 25\n",
      "d 79\n",
      "e 91\n",
      "f 60\n"
     ]
    }
   ],
   "source": [
    "\n",
    "scores = [100, 80, 25, 79, 91, 60]\n",
    "names = [\"a\", \"b\", \"c\", \"d\", \"e\", \"f\"]\n",
    "\n",
    "# for i in range(len(names)):\n",
    "#     print(names[i], scores[i])\n",
    "\n",
    "for score, name in zip(scores, names):\n",
    "    print(name, score)"
   ]
  },
  {
   "cell_type": "markdown",
   "id": "046ab2d5-fae4-4f97-a463-e6c9ebb75eea",
   "metadata": {},
   "source": [
    "Zip function can be used to loop over many lists at at the same time."
   ]
  },
  {
   "cell_type": "code",
   "execution_count": 4,
   "id": "cc914650-ff0d-4b9e-bb7c-ea09dc72341d",
   "metadata": {},
   "outputs": [
    {
     "name": "stdout",
     "output_type": "stream",
     "text": [
      "Danial Ramin Nazanin\n",
      "Ramin Nazanin Mahdis\n",
      "Nazanin Mahdis Taha\n",
      "Mahdis Taha Sana\n",
      "Taha Sana Yeganeh\n"
     ]
    }
   ],
   "source": [
    "my_list = ['Danial', 'Ramin', 'Nazanin', 'Mahdis', 'Taha', 'Sana', 'Yeganeh']\n",
    "\n",
    "# for i in range(1, len(my_list) - 1):\n",
    "#     print(my_list[i - 1], my_list[i], my_list[i + 1])\n",
    "\n",
    "for name1, name2, name3 in zip(my_list, my_list[1:], my_list[2:]):\n",
    "    print(name1, name2, name3)"
   ]
  },
  {
   "cell_type": "markdown",
   "id": "ee023ee2-9b4a-4be6-8c75-349adb5eb1ee",
   "metadata": {},
   "source": [
    "# Map\n",
    "\n",
    "The map function takes a function and a list as inputs, applies the function to each element, and returns the outputs in a new list. The result is a map object, which can be converted to a list or iterated over directly."
   ]
  },
  {
   "cell_type": "code",
   "execution_count": 5,
   "id": "34aed108-b958-475c-8981-2e6eecf84e53",
   "metadata": {},
   "outputs": [
    {
     "name": "stdin",
     "output_type": "stream",
     "text": [
      " 1 2 3 4 5\n"
     ]
    },
    {
     "data": {
      "text/plain": [
       "15"
      ]
     },
     "execution_count": 5,
     "metadata": {},
     "output_type": "execute_result"
    }
   ],
   "source": [
    "# filter, map\n",
    "\n",
    "numbers = input()\n",
    "\n",
    "numbers = numbers.split(\" \")\n",
    "\n",
    "# for i, str_value in enumerate(numbers):\n",
    "#     numbers[i] = int(str_value)\n",
    "\n",
    "# numbers = [int(value) for value in numbers]\n",
    "\n",
    "numbers = map(int, numbers)\n",
    "\n",
    "sum(numbers)"
   ]
  },
  {
   "cell_type": "code",
   "execution_count": 12,
   "id": "3c4e7f6a-f0e1-4336-b156-3205fbd28617",
   "metadata": {},
   "outputs": [
    {
     "name": "stdin",
     "output_type": "stream",
     "text": [
      " 1 2 3 4 5\n"
     ]
    },
    {
     "data": {
      "text/plain": [
       "55"
      ]
     },
     "execution_count": 12,
     "metadata": {},
     "output_type": "execute_result"
    }
   ],
   "source": [
    "# filter, map\n",
    "\n",
    "numbers = input()\n",
    "\n",
    "numbers = numbers.split(\" \")\n",
    "\n",
    "# for i, str_value in enumerate(numbers):\n",
    "#     numbers[i] = int(str_value) ** 2\n",
    "\n",
    "# numbers = [int(value) ** 2 for value in numbers]\n",
    "\n",
    "# def pow2(x):\n",
    "#     return int(x) ** 2\n",
    "\n",
    "# numbers = list(map(pow2, numbers))\n",
    "\n",
    "numbers = list(map(lambda x: int(x) ** 2, numbers))\n",
    "\n",
    "sum(numbers)"
   ]
  },
  {
   "cell_type": "markdown",
   "id": "7dd09354-ca11-423e-be0a-9249e63eddee",
   "metadata": {},
   "source": [
    "# Filter\n",
    "\n",
    "The filter function takes a function and an iterable as input. It applies the function to each element and returns only those elements for which the function returns True. The result is a filter object, which can be converted to a list or iterated over directly."
   ]
  },
  {
   "cell_type": "code",
   "execution_count": 7,
   "id": "f890b631-2a42-4b70-a20e-5fde200d03f6",
   "metadata": {},
   "outputs": [],
   "source": [
    "numbers = [1, 2, 3, 4, 5, 6, 7, 8, 9]\n",
    "numbers = filter(lambda x: x % 3 == 0, numbers)"
   ]
  },
  {
   "cell_type": "code",
   "execution_count": 8,
   "id": "4fa14908-8cc4-4f5c-b8c3-16162df93dc7",
   "metadata": {},
   "outputs": [
    {
     "data": {
      "text/plain": [
       "<filter at 0x799e6c244880>"
      ]
     },
     "execution_count": 8,
     "metadata": {},
     "output_type": "execute_result"
    }
   ],
   "source": [
    "numbers"
   ]
  },
  {
   "cell_type": "code",
   "execution_count": 9,
   "id": "b60a6ee8-2ea8-43ab-9b3e-5c9f6dcb97a2",
   "metadata": {},
   "outputs": [
    {
     "name": "stdout",
     "output_type": "stream",
     "text": [
      "3\n",
      "6\n",
      "9\n"
     ]
    }
   ],
   "source": [
    "for value in numbers:\n",
    "    print(value)"
   ]
  },
  {
   "cell_type": "markdown",
   "id": "1fecb5ce-2a04-4542-91ff-7264339fd6ae",
   "metadata": {},
   "source": [
    "# Tuple and list"
   ]
  },
  {
   "cell_type": "code",
   "execution_count": 10,
   "id": "b9c40818-e642-49f3-bd27-84e3ce8b7f30",
   "metadata": {},
   "outputs": [
    {
     "name": "stdout",
     "output_type": "stream",
     "text": [
      "[1, 2, 3, 4] (1, 2, 3, 4)\n",
      "[1, 2, 3, 4] (2, 3, 4, 5)\n"
     ]
    }
   ],
   "source": [
    "a = [1, 2, 3, 4]\n",
    "b = (1, 2, 3, 4)\n",
    "\n",
    "print(a, b)\n",
    "\n",
    "b = (2, 3, 4, 5)\n",
    "\n",
    "print(a, b)"
   ]
  },
  {
   "cell_type": "code",
   "execution_count": 11,
   "id": "25f0d9fd-fbd9-4cba-bdbe-e6dea8663542",
   "metadata": {},
   "outputs": [
    {
     "name": "stdout",
     "output_type": "stream",
     "text": [
      "(0, 'a')\n",
      "(1, 'b')\n",
      "(2, 'c')\n"
     ]
    }
   ],
   "source": [
    "a = ['a', 'b', 'c']\n",
    "for x in enumerate(a):\n",
    "    print(x)\n"
   ]
  },
  {
   "cell_type": "markdown",
   "id": "2354814e-06e6-451f-bcbf-0550ffc8d860",
   "metadata": {},
   "source": [
    "# Type hinting and docstring"
   ]
  },
  {
   "cell_type": "code",
   "execution_count": null,
   "id": "c768e9d8-6e20-4fd5-bf19-b219b70b86a2",
   "metadata": {},
   "outputs": [],
   "source": [
    "from typing import List, Union\n",
    "\n",
    "\n",
    "def convert_str_list_to_int_list(string_list: List[str]) -> List[int]:\n",
    "    \"\"\"\n",
    "    Converts a list of strings into a list of numbers\n",
    "\n",
    "    Args:\n",
    "        string_list (list): The input list of strings.\n",
    "\n",
    "    Returns:\n",
    "        list: List of ints\n",
    "    \"\"\"\n",
    "    \n",
    "    input_numbers = [int(number_string) for number_string in string_list]\n",
    "    return input_numbers\n",
    "    \n",
    "def convert_str_to_int(string_list: Union[List[str], str]) -> List[int]:\n",
    "    \"\"\"\n",
    "    Converts a single string or a list of strings into a single int or a list of ints\n",
    "\n",
    "    Args:\n",
    "        string_list (str, list): The input string or list of strings.\n",
    "\n",
    "    Returns:\n",
    "        int, list: Ints or a list of ints\n",
    "    \"\"\"\n",
    "    \n",
    "    if isinstance(string_list, str):\n",
    "        return int(string_list)\n",
    "    elif isinstance(string_list, list):\n",
    "        input_numbers = [int(number_string) for number_string in string_list]\n",
    "        return input_numbers\n",
    "    else:\n",
    "        raise NotImplementedError()"
   ]
  }
 ],
 "metadata": {
  "kernelspec": {
   "display_name": "Python 3 (ipykernel)",
   "language": "python",
   "name": "python3"
  },
  "language_info": {
   "codemirror_mode": {
    "name": "ipython",
    "version": 3
   },
   "file_extension": ".py",
   "mimetype": "text/x-python",
   "name": "python",
   "nbconvert_exporter": "python",
   "pygments_lexer": "ipython3",
   "version": "3.10.12"
  }
 },
 "nbformat": 4,
 "nbformat_minor": 5
}
