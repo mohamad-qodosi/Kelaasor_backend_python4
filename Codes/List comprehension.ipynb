{
 "cells": [
  {
   "cell_type": "code",
   "execution_count": 1,
   "id": "5680c505",
   "metadata": {},
   "outputs": [],
   "source": [
    "from pprint import pprint"
   ]
  },
  {
   "cell_type": "code",
   "execution_count": 2,
   "id": "8e7bf5b3",
   "metadata": {},
   "outputs": [
    {
     "data": {
      "text/plain": [
       "[0, 1, 2, 3, 4, 5, 6, 7, 8, 9]"
      ]
     },
     "execution_count": 2,
     "metadata": {},
     "output_type": "execute_result"
    }
   ],
   "source": [
    "a = []\n",
    "for i in range(10):\n",
    "    a.append(i)\n",
    "    \n",
    "a"
   ]
  },
  {
   "cell_type": "code",
   "execution_count": 6,
   "id": "411d8f08",
   "metadata": {},
   "outputs": [
    {
     "data": {
      "text/plain": [
       "[0, 1, 2, 0, 1, 2, 0, 1, 2, 0]"
      ]
     },
     "execution_count": 6,
     "metadata": {},
     "output_type": "execute_result"
    }
   ],
   "source": [
    "a = [i for i in range(10)]\n",
    "a = [0 for i in range(10)]\n",
    "a = [i % 3 for i in range(10)]\n",
    "a"
   ]
  },
  {
   "cell_type": "code",
   "execution_count": 11,
   "id": "ac8efe63",
   "metadata": {},
   "outputs": [
    {
     "data": {
      "text/plain": [
       "[0, 0, 0, 3, 0, 0, 6, 0, 0, 9]"
      ]
     },
     "execution_count": 11,
     "metadata": {},
     "output_type": "execute_result"
    }
   ],
   "source": [
    "a = []\n",
    "for i in range(50):\n",
    "    if i % 3 == 0:\n",
    "        a.append(i)\n",
    "    else:\n",
    "        a.append(0)\n",
    "\n",
    "a = [i if i % 3 == 0 else 0 for i in range(10)]\n",
    "a"
   ]
  },
  {
   "cell_type": "code",
   "execution_count": 12,
   "id": "78ba7fa7-a01c-4bdf-a513-7355bba24cb9",
   "metadata": {},
   "outputs": [
    {
     "data": {
      "text/plain": [
       "[0, 0, -2, 3, -4, 0, 6, 0, -8, 9]"
      ]
     },
     "execution_count": 12,
     "metadata": {},
     "output_type": "execute_result"
    }
   ],
   "source": [
    "a = [i if i % 3 == 0 else (-i if i % 2 == 0 else 0) for i in range(10)]\n",
    "a"
   ]
  },
  {
   "cell_type": "code",
   "execution_count": 13,
   "id": "2c09a2d6",
   "metadata": {},
   "outputs": [
    {
     "data": {
      "text/plain": [
       "[0, 3, 6, 9]"
      ]
     },
     "execution_count": 13,
     "metadata": {},
     "output_type": "execute_result"
    }
   ],
   "source": [
    "a = []\n",
    "for i in range(50):\n",
    "    if i % 3 == 0:\n",
    "        a.append(i)\n",
    "    \n",
    "a = [i for i in range(10) if i % 3 == 0]\n",
    "a"
   ]
  },
  {
   "cell_type": "code",
   "execution_count": 14,
   "id": "d1de85ba",
   "metadata": {},
   "outputs": [
    {
     "data": {
      "text/plain": [
       "[[0, 1, 2, 3, 4, 5, 6, 7, 8, 9],\n",
       " [1, 2, 3, 4, 5, 6, 7, 8, 9, 10],\n",
       " [2, 3, 4, 5, 6, 7, 8, 9, 10, 11],\n",
       " [3, 4, 5, 6, 7, 8, 9, 10, 11, 12],\n",
       " [4, 5, 6, 7, 8, 9, 10, 11, 12, 13],\n",
       " [5, 6, 7, 8, 9, 10, 11, 12, 13, 14],\n",
       " [6, 7, 8, 9, 10, 11, 12, 13, 14, 15],\n",
       " [7, 8, 9, 10, 11, 12, 13, 14, 15, 16],\n",
       " [8, 9, 10, 11, 12, 13, 14, 15, 16, 17],\n",
       " [9, 10, 11, 12, 13, 14, 15, 16, 17, 18]]"
      ]
     },
     "execution_count": 14,
     "metadata": {},
     "output_type": "execute_result"
    }
   ],
   "source": [
    "[[i + j for j in range(10)] for i in range(10)]\n",
    "\n",
    "a = []\n",
    "for i in range(10):\n",
    "    a.append([i + j for j in range(10)])\n",
    "    \n",
    "a = []\n",
    "for i in range(10):\n",
    "    b = []\n",
    "    for j in range(10):\n",
    "        b.append(i + j)\n",
    "    a.append(b)\n",
    "    \n",
    "pprint(a)"
   ]
  },
  {
   "cell_type": "code",
   "execution_count": 17,
   "id": "a142d1c2",
   "metadata": {},
   "outputs": [
    {
     "data": {
      "text/plain": [
       "[[1, 2, 3, 4, 5, 6, 7, 8, 9, 10],\n",
       " [2, 4, 6, 8, 10, 12, 14, 16, 18, 20],\n",
       " [3, 6, 9, 12, 15, 18, 21, 24, 27, 30],\n",
       " [4, 8, 12, 16, 20, 24, 28, 32, 36, 40],\n",
       " [5, 10, 15, 20, 25, 30, 35, 40, 45, 50],\n",
       " [6, 12, 18, 24, 30, 36, 42, 48, 54, 60],\n",
       " [7, 14, 21, 28, 35, 42, 49, 56, 63, 70],\n",
       " [8, 16, 24, 32, 40, 48, 56, 64, 72, 80],\n",
       " [9, 18, 27, 36, 45, 54, 63, 72, 81, 90],\n",
       " [10, 20, 30, 40, 50, 60, 70, 80, 90, 100]]"
      ]
     },
     "execution_count": 17,
     "metadata": {},
     "output_type": "execute_result"
    }
   ],
   "source": [
    "[[i * j for j in range(1, 11)] for i in range(1, 11)]"
   ]
  },
  {
   "cell_type": "code",
   "execution_count": 20,
   "id": "a8526b58-858f-4d50-81e5-4903064b957d",
   "metadata": {},
   "outputs": [
    {
     "data": {
      "text/plain": [
       "[[0, 1, 0, 1, 0, 1, 0, 1],\n",
       " [1, 0, 1, 0, 1, 0, 1, 0],\n",
       " [0, 1, 0, 1, 0, 1, 0, 1],\n",
       " [1, 0, 1, 0, 1, 0, 1, 0],\n",
       " [0, 1, 0, 1, 0, 1, 0, 1],\n",
       " [1, 0, 1, 0, 1, 0, 1, 0],\n",
       " [0, 1, 0, 1, 0, 1, 0, 1],\n",
       " [1, 0, 1, 0, 1, 0, 1, 0]]"
      ]
     },
     "execution_count": 20,
     "metadata": {},
     "output_type": "execute_result"
    }
   ],
   "source": [
    "[[(i + j) % 2 for j in range(8)] for i in range(8)]"
   ]
  },
  {
   "cell_type": "code",
   "execution_count": 17,
   "id": "1e47020f",
   "metadata": {},
   "outputs": [
    {
     "data": {
      "text/plain": [
       "[[0],\n",
       " [0, 2],\n",
       " [0, 3, 6],\n",
       " [0, 4, 8, 12],\n",
       " [0, 5, 10, 15, 20],\n",
       " [0, 6, 12, 18, 24, 30],\n",
       " [0, 7, 14, 21, 28, 35, 42],\n",
       " [0, 8, 16, 24, 32, 40, 48, 56],\n",
       " [0, 9, 18, 27, 36, 45, 54, 63, 72],\n",
       " [0, 10, 20, 30, 40, 50, 60, 70, 80, 90]]"
      ]
     },
     "execution_count": 17,
     "metadata": {},
     "output_type": "execute_result"
    }
   ],
   "source": [
    "[[i * j for j in range(i)] for i in range(1, 11)]"
   ]
  },
  {
   "cell_type": "markdown",
   "id": "4e3cbc70-de59-4bf3-acd1-fb2981c9e19c",
   "metadata": {},
   "source": [
    "# Problems\n",
    "1. Take a string input with a few numbers separated by a comma, then convert this input to a list of numbers\n",
    "2. Remove every negative number from the list above."
   ]
  },
  {
   "cell_type": "code",
   "execution_count": 42,
   "id": "191bfec8-fe82-4d2e-894a-6ad746b7d1dc",
   "metadata": {},
   "outputs": [
    {
     "data": {
      "text/plain": [
       "[1, 2, 3, 4, 5, 6]"
      ]
     },
     "execution_count": 42,
     "metadata": {},
     "output_type": "execute_result"
    }
   ],
   "source": [
    "# 1\n",
    "input_string = '1, 2, 3, 4, 5, 6'\n",
    "input_numbers = [int(number_string) for number_string in input_string.split(', ')]\n",
    "# list(map(to_int, input_string.split(', ')))"
   ]
  },
  {
   "cell_type": "code",
   "execution_count": 65,
   "id": "bd381391-5954-4936-a66d-d1f5fbd05f77",
   "metadata": {},
   "outputs": [
    {
     "name": "stdout",
     "output_type": "stream",
     "text": [
      "[1, 2, 3, 4, 5, 6, 5]\n"
     ]
    }
   ],
   "source": [
    "# 2\n",
    "\n",
    "def is_positive(number):\n",
    "    # if number > 0:\n",
    "    #     return True\n",
    "    # else:\n",
    "    #     return False\n",
    "    return number > 0\n",
    "\n",
    "input_string = '1, 2, 3, 4, 5, 6, -1, 5, -5'\n",
    "input_numbers = [int(number_string) for number_string in input_string.split(', ')] # map\n",
    "positive_numbers = [i for i in input_numbers if i > 0] # filter\n",
    "# positive_numbers = list(filter(is_positive, input_numbers))\n",
    "positive_numbers = list(filter(lambda x: x > 0, input_numbers))\n",
    "print(positive_numbers)"
   ]
  },
  {
   "cell_type": "code",
   "execution_count": 49,
   "id": "1cb891a6",
   "metadata": {},
   "outputs": [
    {
     "name": "stdout",
     "output_type": "stream",
     "text": [
      "1\n",
      "2\n",
      "3\n",
      "4\n",
      "5\n",
      "6\n"
     ]
    }
   ],
   "source": [
    "my_list = [1, 2, 3, 4, 5, 6]\n",
    "\n",
    "for value in my_list:\n",
    "    print(value)"
   ]
  },
  {
   "cell_type": "code",
   "execution_count": 51,
   "id": "09c81d7a",
   "metadata": {},
   "outputs": [
    {
     "name": "stdout",
     "output_type": "stream",
     "text": [
      "0 Danial\n",
      "1 Ramin\n",
      "2 Nazanin\n",
      "3 Mahdis\n"
     ]
    }
   ],
   "source": [
    "my_list = ['Danial', 'Ramin', 'Nazanin', 'Mahdis']\n",
    "\n",
    "# for i in range(len(my_list)):\n",
    "#     print(i, my_list[i])\n",
    "    \n",
    "for i, value in enumerate(my_list):\n",
    "    print(i, value)"
   ]
  },
  {
   "cell_type": "code",
   "execution_count": 54,
   "id": "8258e4b5",
   "metadata": {},
   "outputs": [
    {
     "name": "stdout",
     "output_type": "stream",
     "text": [
      "a 100\n",
      "b 80\n",
      "c 25\n",
      "d 79\n",
      "e 91\n",
      "f 60\n"
     ]
    }
   ],
   "source": [
    "scores = [100, 80, 25, 79, 91, 60]\n",
    "names = [\"a\", \"b\", \"c\", \"d\", \"e\", \"f\"]\n",
    "\n",
    "# for i in range(len(names)):\n",
    "#     print(names[i], scores[i])\n",
    "\n",
    "for score, name in zip(scores, names):\n",
    "    print(name, score)"
   ]
  },
  {
   "cell_type": "code",
   "execution_count": 64,
   "id": "08bca4ca-a806-428a-a96b-a50340435127",
   "metadata": {},
   "outputs": [
    {
     "name": "stdout",
     "output_type": "stream",
     "text": [
      "Danial Ramin Nazanin\n",
      "Ramin Nazanin Mahdis\n",
      "Nazanin Mahdis Taha\n",
      "Mahdis Taha Sana\n",
      "Taha Sana Yeganeh\n"
     ]
    }
   ],
   "source": [
    "my_list = ['Danial', 'Ramin', 'Nazanin', 'Mahdis', 'Taha', 'Sana', 'Yeganeh']\n",
    "\n",
    "# for i in range(1, len(my_list) - 1):\n",
    "#     print(my_list[i - 1], my_list[i], my_list[i + 1])\n",
    "\n",
    "for name1, name2, name3 in zip(my_list, my_list[1:], my_list[2:]):\n",
    "    print(name1, name2, name3)"
   ]
  },
  {
   "cell_type": "code",
   "execution_count": 40,
   "id": "76ef92f8",
   "metadata": {},
   "outputs": [
    {
     "name": "stdout",
     "output_type": "stream",
     "text": [
      "1 2 3 4 5\n"
     ]
    },
    {
     "data": {
      "text/plain": [
       "15"
      ]
     },
     "execution_count": 40,
     "metadata": {},
     "output_type": "execute_result"
    }
   ],
   "source": [
    "# filter, map\n",
    "\n",
    "numbers = input()\n",
    "\n",
    "numbers = numbers.split(\" \")\n",
    "\n",
    "# for i, str_value in enumerate(numbers):\n",
    "#     numbers[i] = int(str_value)\n",
    "\n",
    "# numbers = [int(value) for value in numbers]\n",
    "\n",
    "numbers = map(int, numbers)\n",
    "\n",
    "sum(numbers)"
   ]
  },
  {
   "cell_type": "code",
   "execution_count": 51,
   "id": "45263d84",
   "metadata": {},
   "outputs": [
    {
     "name": "stdout",
     "output_type": "stream",
     "text": [
      "1 4 6\n"
     ]
    },
    {
     "data": {
      "text/plain": [
       "53"
      ]
     },
     "execution_count": 51,
     "metadata": {},
     "output_type": "execute_result"
    }
   ],
   "source": [
    "# filter, map\n",
    "\n",
    "numbers = input()\n",
    "\n",
    "numbers = numbers.split(\" \")\n",
    "\n",
    "# for i, str_value in enumerate(numbers):\n",
    "#     numbers[i] = int(str_value) ** 2\n",
    "\n",
    "# numbers = [int(value) ** 2 for value in numbers]\n",
    "\n",
    "# def pow2(x):\n",
    "#     return int(x) ** 2\n",
    "\n",
    "# numbers = list(map(pow2, numbers))\n",
    "\n",
    "numbers = list(map(lambda x: int(x) ** 2, numbers))\n",
    "\n",
    "sum(numbers)"
   ]
  },
  {
   "cell_type": "code",
   "execution_count": 54,
   "id": "59d8f5f9",
   "metadata": {},
   "outputs": [],
   "source": [
    "numbers = [1, 2, 3, 4, 5, 6, 7, 8, 9]\n",
    "numbers = filter(lambda x: x % 3 == 0, numbers)"
   ]
  },
  {
   "cell_type": "code",
   "execution_count": 56,
   "id": "2f9efa6d",
   "metadata": {},
   "outputs": [
    {
     "data": {
      "text/plain": [
       "<filter at 0x7f26eaf43dc0>"
      ]
     },
     "execution_count": 56,
     "metadata": {},
     "output_type": "execute_result"
    }
   ],
   "source": [
    "numbers"
   ]
  },
  {
   "cell_type": "code",
   "execution_count": 57,
   "id": "cf8c1387",
   "metadata": {},
   "outputs": [
    {
     "name": "stdout",
     "output_type": "stream",
     "text": [
      "3\n",
      "6\n",
      "9\n"
     ]
    }
   ],
   "source": [
    "for value in numbers:\n",
    "    print(value)"
   ]
  },
  {
   "cell_type": "code",
   "execution_count": null,
   "id": "06225a6a",
   "metadata": {},
   "outputs": [],
   "source": []
  }
 ],
 "metadata": {
  "kernelspec": {
   "display_name": "Python 3 (ipykernel)",
   "language": "python",
   "name": "python3"
  },
  "language_info": {
   "codemirror_mode": {
    "name": "ipython",
    "version": 3
   },
   "file_extension": ".py",
   "mimetype": "text/x-python",
   "name": "python",
   "nbconvert_exporter": "python",
   "pygments_lexer": "ipython3",
   "version": "3.10.12"
  }
 },
 "nbformat": 4,
 "nbformat_minor": 5
}
