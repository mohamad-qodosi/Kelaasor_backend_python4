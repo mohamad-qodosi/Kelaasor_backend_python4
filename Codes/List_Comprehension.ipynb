{
 "cells": [
  {
   "cell_type": "markdown",
   "id": "2c26d738",
   "metadata": {},
   "source": [
    "# Python List Comprehension Tutorial\n",
    "\n",
    "This notebook introduces list comprehensions, a concise way to create lists in Python.\n",
    "\n",
    "We'll cover:\n",
    "- Basic list comprehension\n",
    "- Conditional list comprehension (`if`, `else`)\n",
    "- Nested list comprehension\n",
    "- Practical patterns\n"
   ]
  },
  {
   "cell_type": "markdown",
   "id": "d54c2cea",
   "metadata": {},
   "source": [
    "## Basic List Comprehension\n",
    "A simple way to create a list by applying an expression to each item in a sequence."
   ]
  },
  {
   "cell_type": "code",
   "execution_count": 2,
   "id": "8e7bf5b3",
   "metadata": {},
   "outputs": [
    {
     "data": {
      "text/plain": [
       "[0, 1, 2, 3, 4, 5, 6, 7, 8, 9]"
      ]
     },
     "execution_count": 2,
     "metadata": {},
     "output_type": "execute_result"
    }
   ],
   "source": [
    "a = []\n",
    "for i in range(10):\n",
    "    a.append(i)\n",
    "    \n",
    "a"
   ]
  },
  {
   "cell_type": "markdown",
   "id": "09ae9262",
   "metadata": {},
   "source": [
    "Using list comprehension instead of a for loop:"
   ]
  },
  {
   "cell_type": "code",
   "execution_count": 6,
   "id": "411d8f08",
   "metadata": {},
   "outputs": [
    {
     "data": {
      "text/plain": [
       "[0, 1, 2, 0, 1, 2, 0, 1, 2, 0]"
      ]
     },
     "execution_count": 6,
     "metadata": {},
     "output_type": "execute_result"
    }
   ],
   "source": [
    "a = [i for i in range(10)]\n",
    "a = [0 for i in range(10)]\n",
    "a = [i % 3 for i in range(10)]\n",
    "a"
   ]
  },
  {
   "cell_type": "markdown",
   "id": "7a00c00b",
   "metadata": {},
   "source": [
    "## List Comprehension with `if` and `else`\n",
    "You can use conditional expressions inside list comprehensions to create more complex logic."
   ]
  },
  {
   "cell_type": "markdown",
   "id": "f503a838",
   "metadata": {},
   "source": [
    "Using `if-else` inside list comprehension:"
   ]
  },
  {
   "cell_type": "code",
   "execution_count": 11,
   "id": "ac8efe63",
   "metadata": {},
   "outputs": [
    {
     "data": {
      "text/plain": [
       "[0, 0, 0, 3, 0, 0, 6, 0, 0, 9]"
      ]
     },
     "execution_count": 11,
     "metadata": {},
     "output_type": "execute_result"
    }
   ],
   "source": [
    "a = []\n",
    "for i in range(50):\n",
    "    if i % 3 == 0:\n",
    "        a.append(i)\n",
    "    else:\n",
    "        a.append(0)\n",
    "\n",
    "a = [i if i % 3 == 0 else 0 for i in range(10)]\n",
    "a"
   ]
  },
  {
   "cell_type": "markdown",
   "id": "1cb84109",
   "metadata": {},
   "source": [
    "A more complex `if-elif-else` like logic inside list comprehension:"
   ]
  },
  {
   "cell_type": "code",
   "execution_count": 1,
   "id": "78ba7fa7-a01c-4bdf-a513-7355bba24cb9",
   "metadata": {},
   "outputs": [
    {
     "data": {
      "text/plain": [
       "[0, 0, -2, 3, -4, 0, 6, 0, -8, 9]"
      ]
     },
     "execution_count": 1,
     "metadata": {},
     "output_type": "execute_result"
    }
   ],
   "source": [
    "a = [i if i % 3 == 0 else (-i if i % 2 == 0 else 0) for i in range(10)]\n",
    "a"
   ]
  },
  {
   "cell_type": "markdown",
   "id": "f182b78f",
   "metadata": {},
   "source": [
    "## Filtering with `if`\n",
    "Filter items by adding an `if` condition at the end of the list comprehension."
   ]
  },
  {
   "cell_type": "code",
   "execution_count": 13,
   "id": "2c09a2d6",
   "metadata": {},
   "outputs": [
    {
     "data": {
      "text/plain": [
       "[0, 3, 6, 9]"
      ]
     },
     "execution_count": 13,
     "metadata": {},
     "output_type": "execute_result"
    }
   ],
   "source": [
    "a = []\n",
    "for i in range(50):\n",
    "    if i % 3 == 0:\n",
    "        a.append(i)\n",
    "    \n",
    "a = [i for i in range(10) if i % 3 == 0]\n",
    "a"
   ]
  },
  {
   "cell_type": "markdown",
   "id": "c0e99581",
   "metadata": {},
   "source": [
    "## Nested List Comprehension\n",
    "You can nest one list comprehension inside another to create 2D lists or matrices."
   ]
  },
  {
   "cell_type": "code",
   "execution_count": 14,
   "id": "d1de85ba",
   "metadata": {},
   "outputs": [
    {
     "data": {
      "text/plain": [
       "[[0, 1, 2, 3, 4, 5, 6, 7, 8, 9],\n",
       " [1, 2, 3, 4, 5, 6, 7, 8, 9, 10],\n",
       " [2, 3, 4, 5, 6, 7, 8, 9, 10, 11],\n",
       " [3, 4, 5, 6, 7, 8, 9, 10, 11, 12],\n",
       " [4, 5, 6, 7, 8, 9, 10, 11, 12, 13],\n",
       " [5, 6, 7, 8, 9, 10, 11, 12, 13, 14],\n",
       " [6, 7, 8, 9, 10, 11, 12, 13, 14, 15],\n",
       " [7, 8, 9, 10, 11, 12, 13, 14, 15, 16],\n",
       " [8, 9, 10, 11, 12, 13, 14, 15, 16, 17],\n",
       " [9, 10, 11, 12, 13, 14, 15, 16, 17, 18]]"
      ]
     },
     "execution_count": 14,
     "metadata": {},
     "output_type": "execute_result"
    }
   ],
   "source": [
    "[[i + j for j in range(10)] for i in range(10)]\n",
    "\n",
    "a = []\n",
    "for i in range(10):\n",
    "    a.append([i + j for j in range(10)])\n",
    "    \n",
    "a = []\n",
    "for i in range(10):\n",
    "    b = []\n",
    "    for j in range(10):\n",
    "        b.append(i + j)\n",
    "    a.append(b)\n",
    "    \n",
    "pprint(a)"
   ]
  },
  {
   "cell_type": "code",
   "execution_count": 17,
   "id": "a142d1c2",
   "metadata": {},
   "outputs": [
    {
     "data": {
      "text/plain": [
       "[[1, 2, 3, 4, 5, 6, 7, 8, 9, 10],\n",
       " [2, 4, 6, 8, 10, 12, 14, 16, 18, 20],\n",
       " [3, 6, 9, 12, 15, 18, 21, 24, 27, 30],\n",
       " [4, 8, 12, 16, 20, 24, 28, 32, 36, 40],\n",
       " [5, 10, 15, 20, 25, 30, 35, 40, 45, 50],\n",
       " [6, 12, 18, 24, 30, 36, 42, 48, 54, 60],\n",
       " [7, 14, 21, 28, 35, 42, 49, 56, 63, 70],\n",
       " [8, 16, 24, 32, 40, 48, 56, 64, 72, 80],\n",
       " [9, 18, 27, 36, 45, 54, 63, 72, 81, 90],\n",
       " [10, 20, 30, 40, 50, 60, 70, 80, 90, 100]]"
      ]
     },
     "execution_count": 17,
     "metadata": {},
     "output_type": "execute_result"
    }
   ],
   "source": [
    "[[i * j for j in range(1, 11)] for i in range(1, 11)]"
   ]
  },
  {
   "cell_type": "code",
   "execution_count": 20,
   "id": "a8526b58-858f-4d50-81e5-4903064b957d",
   "metadata": {},
   "outputs": [
    {
     "data": {
      "text/plain": [
       "[[0, 1, 0, 1, 0, 1, 0, 1],\n",
       " [1, 0, 1, 0, 1, 0, 1, 0],\n",
       " [0, 1, 0, 1, 0, 1, 0, 1],\n",
       " [1, 0, 1, 0, 1, 0, 1, 0],\n",
       " [0, 1, 0, 1, 0, 1, 0, 1],\n",
       " [1, 0, 1, 0, 1, 0, 1, 0],\n",
       " [0, 1, 0, 1, 0, 1, 0, 1],\n",
       " [1, 0, 1, 0, 1, 0, 1, 0]]"
      ]
     },
     "execution_count": 20,
     "metadata": {},
     "output_type": "execute_result"
    }
   ],
   "source": [
    "[[(i + j) % 2 for j in range(8)] for i in range(8)]"
   ]
  },
  {
   "cell_type": "code",
   "execution_count": 17,
   "id": "1e47020f",
   "metadata": {},
   "outputs": [
    {
     "data": {
      "text/plain": [
       "[[0],\n",
       " [0, 2],\n",
       " [0, 3, 6],\n",
       " [0, 4, 8, 12],\n",
       " [0, 5, 10, 15, 20],\n",
       " [0, 6, 12, 18, 24, 30],\n",
       " [0, 7, 14, 21, 28, 35, 42],\n",
       " [0, 8, 16, 24, 32, 40, 48, 56],\n",
       " [0, 9, 18, 27, 36, 45, 54, 63, 72],\n",
       " [0, 10, 20, 30, 40, 50, 60, 70, 80, 90]]"
      ]
     },
     "execution_count": 17,
     "metadata": {},
     "output_type": "execute_result"
    }
   ],
   "source": [
    "[[i * j for j in range(i)] for i in range(1, 11)]"
   ]
  },
  {
   "cell_type": "code",
   "execution_count": null,
   "id": "7abee9e2-f6bc-488b-a701-dffb8d54a732",
   "metadata": {},
   "outputs": [],
   "source": []
  }
 ],
 "metadata": {
  "kernelspec": {
   "display_name": "Python 3 (ipykernel)",
   "language": "python",
   "name": "python3"
  },
  "language_info": {
   "codemirror_mode": {
    "name": "ipython",
    "version": 3
   },
   "file_extension": ".py",
   "mimetype": "text/x-python",
   "name": "python",
   "nbconvert_exporter": "python",
   "pygments_lexer": "ipython3",
   "version": "3.10.12"
  }
 },
 "nbformat": 4,
 "nbformat_minor": 5
}
